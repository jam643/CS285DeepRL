{
 "cells": [
  {
   "cell_type": "markdown",
   "metadata": {},
   "source": [
    "# HW4 - Model Based RL\n",
    "## Problem 1 Train Model:\n",
    "Train half cheetah model giving random rollouts each with 512 transition batch size to compute stochastic gradient with varying model architecture:\n",
    "\n",
    "1) 1 hidden layer, 32 neurons per layer, 500 training steps\n",
    "\n",
    "```python cs285/scripts/run_hw4_mb.py --exp_name q1_cheetah_n500_arch1x32\n",
    "--env_name cheetah-cs285-v0 --add_sl_noise --n_iter 1 --\n",
    "batch_size_initial 20000 --num_agent_train_steps_per_iter 500 --\n",
    "n_layers 1 --size 32 --scalar_log_freq -1 --video_log_freq -1 --\n",
    "mpc_action_sampling_strategy 'random'```\n",
    "\n",
    "| Loss | Predictions (red) states (green) |\n",
    "| :---: | :---: |\n",
    "| <img src=\"cheetah_n500_arch1x32/itr_0_losses.png\" width=\"400\"/> | <img src=\"cheetah_n500_arch1x32/itr_0_predictions.png\" width=\"500\"/> |\n",
    "\n",
    "2) 2 hidden layer, 250 neurons per layer, 5 training stepa\n",
    "\n",
    "```python cs285/scripts/run_hw4_mb.py --exp_name q1_cheetah_n500_arch1x32\n",
    "--env_name cheetah-cs285-v0 --add_sl_noise --n_iter 1 --\n",
    "batch_size_initial 20000 --num_agent_train_steps_per_iter 5 --\n",
    "n_layers 2 --size 250 --scalar_log_freq -1 --video_log_freq -1 --\n",
    "mpc_action_sampling_strategy 'random'```\n",
    "\n",
    "| Loss | Predictions (red) states (green) |\n",
    "| :---: | :---: |\n",
    "| <img src=\"cheetah_n5_arch2x250/itr_0_losses.png\" width=\"400\"/> | <img src=\"cheetah_n5_arch2x250/itr_0_predictions.png\" width=\"500\"/> |\n",
    "\n",
    "3) 2 hidden layer, 250 neurons per layer, 500 training stepa\n",
    "\n",
    "```python cs285/scripts/run_hw4_mb.py --exp_name q1_cheetah_n500_arch1x32\n",
    "--env_name cheetah-cs285-v0 --add_sl_noise --n_iter 1 --\n",
    "batch_size_initial 20000 --num_agent_train_steps_per_iter 500 --\n",
    "n_layers 2 --size 250 --scalar_log_freq -1 --video_log_freq -1 --\n",
    "mpc_action_sampling_strategy 'random'```\n",
    "\n",
    "| Loss | Predictions (red) states (green) |\n",
    "| :---: | :---: |\n",
    "| <img src=\"cheetah_n500_arch2x250/itr_0_losses.png\" width=\"400\"/> | <img src=\"cheetah_n500_arch2x250/itr_0_predictions.png\" width=\"500\"/> |"
   ]
  },
  {
   "cell_type": "markdown",
   "metadata": {},
   "source": [
    "## Problem 2 MPC Policy:\n",
    "Running MPC policy on learned dynamics. With random sampling strategy of 1000 candidate rollouts with horizon length = 10 for each. Using ensemble size of 3 NN models to compute avg reward. \n",
    "\n",
    "Results:<br>\n",
    "TrainAvgReturn = -167, EvalAvgReturn = -40\n",
    "\n",
    "```python cs285/scripts/run_hw4_mb.py --exp_name\n",
    "q2_obstacles_singleiteration --env_name obstacles-cs285-v0 --\n",
    "add_sl_noise --num_agent_train_steps_per_iter 20 --n_iter 1 --\n",
    "batch_size_initial 5000 --batch_size 1000 --mpc_horizon 10 --\n",
    "mpc_action_sampling_strategy 'random'```"
   ]
  },
  {
   "cell_type": "markdown",
   "metadata": {},
   "source": [
    "## Problem 3 MPC with on-policy data collection:\n",
    "Now running with multiple outerloop iters to collect training data with on-policy MPC_policy.\n",
    "\n",
    "Pseudocode:\n",
    "\n",
    "**for** n_iter:\n",
    "<blockquote>\n",
    "  - Collect batch_size/batch_size_init transitions (200 episode length) using latest MPC_policy with mpc_horizon<br>\n",
    "  - Add transitions to replay buffer<br>\n",
    "  for num_agent_train_steps_per_iter:<br>\n",
    "  <blockquote>\n",
    "   - sample train_batch_size (512) transitions randomly from replay buffer<br>\n",
    "   - For ensemble 3 NN with 2 hidden layers and 250 nodes each, take single gradient step with MSE loss<br>\n",
    "      \n",
    "  </blockquote>  \n",
    "  end for\n",
    "    \n",
    "</blockquote>\n",
    "\n",
    "**end for**\n",
    "\n",
    "| Env | Params | Returns Per Iter | Gif |\n",
    "| :---: | :---: | :---: | :---: |\n",
    "| Obstacle | n_iter=12<br> batch_size = 1000 <br> mpc_horizon = 10 <br> num_agent_train_steps_per_iter = 20 <br> | <img src=\"p3obstacle.png\" width=\"300\"/> |  |\n",
    "| Reacher | n_iter=15<br> batch_size = 5000 <br> mpc_horizon = 10 <br> num_agent_train_steps_per_iter = 1000 <br> | <img src=\"p3reacher.png\" width=\"300\"/> | <img src=\"p3reacher.gif\" width=\"500\"/> |\n",
    "| Obstacle | n_iter=12<br> batch_size = 1000 <br> mpc_horizon = 10 <br> num_agent_train_steps_per_iter = 20 <br> | <img src=\"p3cheetah.png\" width=\"300\"/> | <img src=\"p3cheetah.gif\" width=\"500\"/> |"
   ]
  },
  {
   "cell_type": "markdown",
   "metadata": {},
   "source": [
    "## Problem 4 Hyperparam Comparison:\n",
    "**MPC Horizon Length:**\n",
    "Counterintuitively, the longest horizon length of 30 actually has the lowest returns.\n",
    "<img src=\"p4_horizon.png\" width=\"600\"/>\n",
    "\n",
    "**Number Action Sequences:**\n",
    "Increasing from 100 to 1000 candidate action sequences does improve returns. Though the difference may be more significant with a more complex environment than \"Reacher\".\n",
    "<img src=\"p4_numseq.png\" width=\"600\"/>\n",
    "\n",
    "**Ensemble Size:**\n",
    "Larger ensemble of NN helps account for model uncertainty by averaging expected returns across\n",
    "<img src=\"p4_ensemble.png\" width=\"600\"/>"
   ]
  },
  {
   "cell_type": "markdown",
   "metadata": {},
   "source": [
    "## Problem 5 MPC with CEM:\n",
    "<img src=\"CEM.png\" width=\"600\"/>\n",
    "\n",
    "Gray: No CEM, Red 2 CEM iters, Blue 4 CEM iters. The results show clear improvement using CEM over random shooting. This makes sense as the resulting trajectories are refined rather than random walks.\n",
    "<img src=\"CEMReturns.png\" width=\"500\"/>\n",
    "\n",
    "| Params | Gif |\n",
    "| :---: | :---: |\n",
    "| No CEM | <img src=\"NoCEM.gif\" width=\"400\"/> |\n",
    "| CEM 2 iters | <img src=\"CEM2.gif\" width=\"400\"/> |\n",
    "| CEM 4 iters | <img src=\"CEM4.gif\" width=\"400\"/> |"
   ]
  },
  {
   "cell_type": "code",
   "execution_count": null,
   "metadata": {},
   "outputs": [],
   "source": []
  }
 ],
 "metadata": {
  "kernelspec": {
   "display_name": "cs285",
   "language": "python",
   "name": "cs285"
  },
  "language_info": {
   "codemirror_mode": {
    "name": "ipython",
    "version": 3
   },
   "file_extension": ".py",
   "mimetype": "text/x-python",
   "name": "python",
   "nbconvert_exporter": "python",
   "pygments_lexer": "ipython3",
   "version": "3.7.13"
  }
 },
 "nbformat": 4,
 "nbformat_minor": 4
}
