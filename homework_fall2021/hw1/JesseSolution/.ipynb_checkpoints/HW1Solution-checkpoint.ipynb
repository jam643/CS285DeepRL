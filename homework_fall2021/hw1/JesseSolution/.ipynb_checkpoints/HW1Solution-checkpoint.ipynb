{
 "cells": [
  {
   "cell_type": "markdown",
   "metadata": {},
   "source": [
    "# HW1 Immitation Learning Solution\n",
    "## 1.2 Behavior Cloning\n",
    "\n",
    "Behavior cloning results table shown below. Each run result is using:\n",
    "* bla\n",
    "\n",
    "**Performance**\n",
    "\n",
    "Note that `Return` indicates total reward accumulated over path, and 10 eval paths are generated for each BC policy.\n",
    "\n",
    "| Environment | Expert Return | BC Policy Mean Return | BC Policy Std Return | % Expert Performance |\n",
    "| :---: | :---: | :---: | :---: | :---: |\n",
    "| **Ant-v2** | 4713.65 | 4773.50 | 66.22 | 101.3% |\n",
    "| **HalfCheetah-v2** | 4205.77 | 3660.92 | 1302.87 | 87.0% |\n",
    "| **Humanoid-v2** | 10,344.51 | 241.36 | 92.52 | 2.3% |\n",
    "\n",
    "**Videos**\n",
    "\n",
    "| Environment | Expert Policy | BC Policy|\n",
    "| :---: | :---: | :---: |\n",
    "| **Ant-v2** | <img src=\"ant-expert.gif\" width=\"200\"/> | <img src=\"ant-bc-eval.gif\" width=\"200\"/> |\n",
    "| **HalfCheetah-v2** | <img src=\"halfCheetah-expert.gif\" width=\"200\"/> | <img src=\"halfCheetah-bc-eval.gif\" width=\"200\"/> |\n",
    "| **Humanoid-v2** | <img src=\"humanoid-expert.gif\" width=\"200\"/> | <img src=\"humanoid-bc-eval.gif\" width=\"200\"/> |\n",
    "\n",
    "**Commands to Generate:**\n",
    "\n",
    "Ant:<br>\n",
    "```--expert_policy_file cs285/policies/experts/Ant.pkl --env_name Ant-v2 --exp_name bc_ant --n_iter 1 --expert_data cs285/expert_data/expert_data_Ant-v2.pkl -ngpu --ep_len_video 200 --eval_batch_size 10000```\n",
    "\n",
    "Humanoid:\n",
    "\n"
   ]
  },
  {
   "cell_type": "markdown",
   "metadata": {},
   "source": [
    "## 1.3"
   ]
  },
  {
   "cell_type": "code",
   "execution_count": 1,
   "metadata": {},
   "outputs": [
    {
     "ename": "ModuleNotFoundError",
     "evalue": "No module named 'seaborn'",
     "output_type": "error",
     "traceback": [
      "\u001b[0;31m---------------------------------------------------------------------------\u001b[0m",
      "\u001b[0;31mModuleNotFoundError\u001b[0m                       Traceback (most recent call last)",
      "\u001b[0;32m<ipython-input-1-6e247a12e455>\u001b[0m in \u001b[0;36m<module>\u001b[0;34m()\u001b[0m\n\u001b[1;32m      1\u001b[0m \u001b[0;32mimport\u001b[0m \u001b[0mnumpy\u001b[0m \u001b[0;32mas\u001b[0m \u001b[0mnp\u001b[0m\u001b[0;34m\u001b[0m\u001b[0;34m\u001b[0m\u001b[0m\n\u001b[1;32m      2\u001b[0m \u001b[0;32mimport\u001b[0m \u001b[0mmatplotlib\u001b[0m\u001b[0;34m.\u001b[0m\u001b[0mpyplot\u001b[0m \u001b[0;32mas\u001b[0m \u001b[0mplt\u001b[0m\u001b[0;34m\u001b[0m\u001b[0;34m\u001b[0m\u001b[0m\n\u001b[0;32m----> 3\u001b[0;31m \u001b[0;32mimport\u001b[0m \u001b[0mseaborn\u001b[0m \u001b[0;32mas\u001b[0m \u001b[0msns\u001b[0m\u001b[0;34m\u001b[0m\u001b[0;34m\u001b[0m\u001b[0m\n\u001b[0m",
      "\u001b[0;31mModuleNotFoundError\u001b[0m: No module named 'seaborn'"
     ]
    }
   ],
   "source": [
    "import numpy as np\n",
    "import matplotlib.pyplot as plt\n",
    "import seaborn as sns"
   ]
  },
  {
   "cell_type": "code",
   "execution_count": null,
   "metadata": {},
   "outputs": [],
   "source": []
  },
  {
   "cell_type": "code",
   "execution_count": null,
   "metadata": {},
   "outputs": [],
   "source": []
  }
 ],
 "metadata": {
  "kernelspec": {
   "display_name": "Python 3",
   "language": "python",
   "name": "python3"
  },
  "language_info": {
   "codemirror_mode": {
    "name": "ipython",
    "version": 3
   },
   "file_extension": ".py",
   "mimetype": "text/x-python",
   "name": "python",
   "nbconvert_exporter": "python",
   "pygments_lexer": "ipython3",
   "version": "3.7.12"
  }
 },
 "nbformat": 4,
 "nbformat_minor": 4
}
